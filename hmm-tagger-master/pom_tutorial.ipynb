{
 "cells": [
  {
   "cell_type": "markdown",
   "metadata": {},
   "source": [
    "## Initialization"
   ]
  },
  {
   "cell_type": "code",
   "execution_count": 1,
   "metadata": {
    "collapsed": true
   },
   "outputs": [],
   "source": [
    "from pomegranate import *\n",
    "dists = [NormalDistribution(5, 1), NormalDistribution(1, 7), NormalDistribution(8,2)]\n",
    "trans_mat = numpy.array([[0.7, 0.3, 0.0],\n",
    "                             [0.0, 0.8, 0.2],\n",
    "                             [0.0, 0.0, 0.9]])\n",
    "starts = numpy.array([1.0, 0.0, 0.0])\n",
    "ends = numpy.array([0.0, 0.0, 0.1])\n",
    "model = HiddenMarkovModel.from_matrix(trans_mat, dists, starts, ends)"
   ]
  },
  {
   "cell_type": "code",
   "execution_count": 2,
   "metadata": {},
   "outputs": [
    {
     "data": {
      "text/plain": [
       "[{\n",
       "     \"class\" :\"Distribution\",\n",
       "     \"name\" :\"NormalDistribution\",\n",
       "     \"parameters\" :[\n",
       "         5.0,\n",
       "         1.0\n",
       "     ],\n",
       "     \"frozen\" :false\n",
       " }, {\n",
       "     \"class\" :\"Distribution\",\n",
       "     \"name\" :\"NormalDistribution\",\n",
       "     \"parameters\" :[\n",
       "         1.0,\n",
       "         7.0\n",
       "     ],\n",
       "     \"frozen\" :false\n",
       " }, {\n",
       "     \"class\" :\"Distribution\",\n",
       "     \"name\" :\"NormalDistribution\",\n",
       "     \"parameters\" :[\n",
       "         8.0,\n",
       "         2.0\n",
       "     ],\n",
       "     \"frozen\" :false\n",
       " }]"
      ]
     },
     "execution_count": 2,
     "metadata": {},
     "output_type": "execute_result"
    }
   ],
   "source": [
    "dists"
   ]
  },
  {
   "cell_type": "code",
   "execution_count": 3,
   "metadata": {
    "collapsed": true
   },
   "outputs": [],
   "source": [
    "from pomegranate import *\n",
    "s1 = State(NormalDistribution(5, 1))\n",
    "s2 = State(NormalDistribution(1, 7))\n",
    "s3 = State(NormalDistribution(8, 2))\n",
    "model = HiddenMarkovModel()\n",
    "model.add_states(s1, s2, s3)\n",
    "model.add_transition(model.start, s1, 1.0)\n",
    "model.add_transition(s1, s1, 0.7)\n",
    "model.add_transition(s1, s2, 0.3)\n",
    "model.add_transition(s2, s2, 0.8)\n",
    "model.add_transition(s2, s3, 0.2)\n",
    "model.add_transition(s3, s3, 0.9)\n",
    "model.add_transition(s3, model.end, 0.1)\n",
    "model.bake()\n"
   ]
  },
  {
   "cell_type": "markdown",
   "metadata": {},
   "source": [
    "Models built in this manner must be explicitly “baked” at the end. This finalizes the model topology and creates the internal sparse matrix which makes up the model. This step also automatically normalizes all transitions to make sure they sum to 1.0, stores information about tied distributions, edges, pseudocounts, and merges unnecessary silent states in the model for computational efficiency. This can cause the bake step to take a little bit of time. If you want to reduce this overhead and are sure you specified the model correctly you can pass in merge=”None” to the bake step to avoid model checking."
   ]
  },
  {
   "cell_type": "markdown",
   "metadata": {},
   "source": [
    "The second way to initialize models is to use the from_samples class method. The call is identical to initializing a mixture model."
   ]
  },
  {
   "cell_type": "code",
   "execution_count": 4,
   "metadata": {
    "collapsed": true
   },
   "outputs": [
    {
     "ename": "NameError",
     "evalue": "name 'X' is not defined",
     "output_type": "error",
     "traceback": [
      "\u001b[0;31m---------------------------------------------------------------------------\u001b[0m",
      "\u001b[0;31mNameError\u001b[0m                                 Traceback (most recent call last)",
      "\u001b[0;32m<ipython-input-4-6743e9f2b98f>\u001b[0m in \u001b[0;36m<module>\u001b[0;34m()\u001b[0m\n\u001b[1;32m      1\u001b[0m \u001b[0;32mfrom\u001b[0m \u001b[0mpomegranate\u001b[0m \u001b[0;32mimport\u001b[0m \u001b[0;34m*\u001b[0m\u001b[0;34m\u001b[0m\u001b[0;34m\u001b[0m\u001b[0m\n\u001b[0;32m----> 2\u001b[0;31m \u001b[0mmodel\u001b[0m \u001b[0;34m=\u001b[0m \u001b[0mHiddenMarkovModel\u001b[0m\u001b[0;34m.\u001b[0m\u001b[0mfrom_samples\u001b[0m\u001b[0;34m(\u001b[0m\u001b[0mNormalDistribution\u001b[0m\u001b[0;34m,\u001b[0m \u001b[0mn_components\u001b[0m\u001b[0;34m=\u001b[0m\u001b[0;36m5\u001b[0m\u001b[0;34m,\u001b[0m \u001b[0mX\u001b[0m\u001b[0;34m=\u001b[0m\u001b[0mX\u001b[0m\u001b[0;34m)\u001b[0m\u001b[0;34m\u001b[0m\u001b[0;34m\u001b[0m\u001b[0m\n\u001b[0m",
      "\u001b[0;31mNameError\u001b[0m: name 'X' is not defined"
     ]
    }
   ],
   "source": [
    "from pomegranate import *\n",
    "model = HiddenMarkovModel.from_samples(NormalDistribution, n_components=5, X=X)"
   ]
  },
  {
   "cell_type": "markdown",
   "metadata": {},
   "source": [
    "Much like a mixture model, all arguments present in the fit step can also be passed in to this method. Also like a mixture model, it is initialized by running k-means on the concatenation of all data, ignoring that the symbols are part of a structured sequence. The clusters returned are used to initialize all parameters of the distributions, i.e. both mean and covariances for multivariate Gaussian distributions. The transition matrix is initialized as uniform random probabilities. After the components (distributions on the nodes) are initialized, the given training algorithm is used to refine the parameters of the distributions and learn the appropriate transition probabilities."
   ]
  },
  {
   "cell_type": "code",
   "execution_count": null,
   "metadata": {
    "collapsed": true
   },
   "outputs": [],
   "source": []
  }
 ],
 "metadata": {
  "kernelspec": {
   "display_name": "Python 3",
   "language": "python",
   "name": "python3"
  },
  "language_info": {
   "codemirror_mode": {
    "name": "ipython",
    "version": 3
   },
   "file_extension": ".py",
   "mimetype": "text/x-python",
   "name": "python",
   "nbconvert_exporter": "python",
   "pygments_lexer": "ipython3",
   "version": "3.6.8"
  }
 },
 "nbformat": 4,
 "nbformat_minor": 2
}
